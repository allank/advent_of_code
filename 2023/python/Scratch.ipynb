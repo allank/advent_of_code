{
 "cells": [
  {
   "cell_type": "code",
   "execution_count": 29,
   "metadata": {},
   "outputs": [],
   "source": [
    "input = \"\"\"...163@........%17..42..108*.......*...$......700..*..81...../...............+....%.............................#285.........499.523....*...\n",
    ".............-........*..........305.706.....*....942.....843...843..*.............378.861.......573.859.173............522............544..\n",
    "..........974.......517.756..762.............480.....................289................*...........*......*.228%..........*......628.......\"\"\""
   ]
  },
  {
   "cell_type": "code",
   "execution_count": 13,
   "metadata": {},
   "outputs": [],
   "source": [
    "import re"
   ]
  },
  {
   "cell_type": "code",
   "execution_count": 14,
   "metadata": {},
   "outputs": [
    {
     "name": "stdout",
     "output_type": "stream",
     "text": [
      "['305', '706', '942', '843', '378', '861', '573', '859', '173', '522', '544']\n",
      "[]\n"
     ]
    }
   ],
   "source": [
    "for line in input.split(\"\\n\"):\n",
    "    print(re.findall(r'\\d+', line))"
   ]
  },
  {
   "cell_type": "code",
   "execution_count": 35,
   "metadata": {},
   "outputs": [],
   "source": [
    "def is_symbol(character):\n",
    "    if not character.isdigit() and character != \".\":\n",
    "        return True\n",
    "    else:\n",
    "        return False\n",
    "    \n",
    "def part_01(input):\n",
    "    sum = 0\n",
    "    lines = input.split(\"\\n\")\n",
    "    for line_num, line in enumerate(lines):\n",
    "        part_nums = re.findall(r'\\d+', line)\n",
    "        start_pos = 0\n",
    "        for part in part_nums:\n",
    "            start_pos = line.find(part, start_pos)\n",
    "            characters = []\n",
    "            for i in range(line_num-1, line_num+2):\n",
    "                for j in range(start_pos-1, start_pos + len(part) + 1):\n",
    "                    if i >= 0 and i <= len(lines)-1  and j >=0 and j <= len(line)-1:\n",
    "                        characters.append(lines[i][j])\n",
    "            start_pos = start_pos + len(part)\n",
    "            print(characters)\n",
    "            if any([is_symbol(c) for c in characters]):\n",
    "                sum = sum + int(part)\n",
    "#                 print(part)\n",
    "#             print(any([is_symbol(c) for c in characters]))\n",
    "#             if start_pos > 0 and is_symbol(line[start_pos] - 1):\n",
    "                \n",
    "#             if should_include(part, line_num, lines):\n",
    "#                 sum = sum + int(part)\n",
    "    return sum  "
   ]
  },
  {
   "cell_type": "code",
   "execution_count": 36,
   "metadata": {},
   "outputs": [
    {
     "name": "stdout",
     "output_type": "stream",
     "text": [
      "['.', '1', '6', '3', '@', '.', '.', '.', '.', '.']\n",
      "['%', '1', '7', '.', '.', '.', '.', '.']\n",
      "['.', '4', '2', '.', '.', '.', '.', '*']\n",
      "['.', '1', '0', '8', '*', '.', '.', '.', '.', '.']\n",
      "['.', '7', '0', '0', '.', '*', '.', '.', '.', '.']\n",
      "['.', '8', '1', '.', '.', '.', '.', '.']\n",
      "['#', '2', '8', '5', '.', '.', '.', '.', '.', '.']\n",
      "['.', '4', '9', '9', '.', '.', '.', '.', '.', '.']\n",
      "['.', '5', '2', '3', '.', '.', '.', '.', '.', '.']\n",
      "['.', '.', '.', '*', '.', '.', '3', '0', '5', '.', '.', '.', '.', '.', '.']\n",
      "['.', '.', '.', '$', '.', '.', '7', '0', '6', '.', '.', '.', '.', '.', '.']\n",
      "['.', '.', '*', '.', '.', '.', '9', '4', '2', '.', '.', '.', '.', '.', '.']\n",
      "['.', '.', '.', '.', '/', '.', '8', '4', '3', '.', '.', '.', '.', '.', '.']\n",
      "['.', '.', '.', '.', '.', '.', '8', '4', '3', '.', '.', '.', '.', '.', '.']\n",
      "['%', '.', '.', '.', '.', '.', '3', '7', '8', '.', '.', '.', '.', '.', '.']\n",
      "['.', '.', '.', '.', '.', '.', '8', '6', '1', '.', '.', '.', '*', '.', '.']\n",
      "['.', '.', '.', '.', '.', '.', '5', '7', '3', '.', '.', '.', '.', '.', '*']\n",
      "['.', '.', '.', '.', '.', '.', '8', '5', '9', '.', '*', '.', '.', '.', '.']\n",
      "['.', '.', '.', '.', '.', '.', '1', '7', '3', '.', '.', '.', '.', '*', '.']\n",
      "['.', '.', '.', '.', '.', '.', '5', '2', '2', '.', '.', '.', '.', '.', '*']\n",
      "['.', '.', '*', '.', '.', '.', '5', '4', '4', '.', '.', '.', '.', '.', '.']\n",
      "['.', '.', '.', '.', '-', '.', '9', '7', '4', '.']\n",
      "['.', '.', '.', '*', '.', '.', '5', '1', '7', '.']\n",
      "['.', '.', '.', '.', '.', '.', '7', '5', '6', '.']\n",
      "['.', '.', '.', '.', '.', '.', '7', '6', '2', '.']\n",
      "['.', '*', '.', '.', '.', '.', '4', '8', '0', '.']\n",
      "['.', '*', '.', '.', '.', '.', '2', '8', '9', '.']\n",
      "['.', '.', '.', '.', '.', '.', '2', '2', '8', '%']\n",
      "['.', '.', '.', '.', '.', '.', '6', '2', '8', '.']\n"
     ]
    },
    {
     "data": {
      "text/plain": [
       "10509"
      ]
     },
     "execution_count": 36,
     "metadata": {},
     "output_type": "execute_result"
    }
   ],
   "source": [
    "part_01(input)"
   ]
  },
  {
   "cell_type": "code",
   "execution_count": 9,
   "metadata": {},
   "outputs": [
    {
     "data": {
      "text/plain": [
       "False"
      ]
     },
     "execution_count": 9,
     "metadata": {},
     "output_type": "execute_result"
    }
   ],
   "source": [
    "is_symbol(\".\")"
   ]
  },
  {
   "cell_type": "code",
   "execution_count": 11,
   "metadata": {},
   "outputs": [
    {
     "data": {
      "text/plain": [
       "False"
      ]
     },
     "execution_count": 11,
     "metadata": {},
     "output_type": "execute_result"
    }
   ],
   "source": [
    "is_symbol(\"1\")"
   ]
  },
  {
   "cell_type": "code",
   "execution_count": 22,
   "metadata": {},
   "outputs": [
    {
     "name": "stdout",
     "output_type": "stream",
     "text": [
      "-1\n",
      "0\n",
      "1\n"
     ]
    }
   ],
   "source": [
    "for i in range(-1, 2):\n",
    "    print(i)"
   ]
  },
  {
   "cell_type": "code",
   "execution_count": 24,
   "metadata": {},
   "outputs": [
    {
     "data": {
      "text/plain": [
       "2"
      ]
     },
     "execution_count": 24,
     "metadata": {},
     "output_type": "execute_result"
    }
   ],
   "source": [
    "\"this is a test\".find(\"is\")"
   ]
  },
  {
   "cell_type": "code",
   "execution_count": 34,
   "metadata": {},
   "outputs": [
    {
     "data": {
      "text/plain": [
       "3"
      ]
     },
     "execution_count": 34,
     "metadata": {},
     "output_type": "execute_result"
    }
   ],
   "source": [
    "\"...843...843..\".find(\"843\", 3)"
   ]
  },
  {
   "cell_type": "code",
   "execution_count": 37,
   "metadata": {},
   "outputs": [],
   "source": [
    "t = [\".\", \"*\"]"
   ]
  },
  {
   "cell_type": "code",
   "execution_count": 39,
   "metadata": {},
   "outputs": [
    {
     "data": {
      "text/plain": [
       "False"
      ]
     },
     "execution_count": 39,
     "metadata": {},
     "output_type": "execute_result"
    }
   ],
   "source": [
    "\"$\" in t"
   ]
  },
  {
   "cell_type": "code",
   "execution_count": 40,
   "metadata": {},
   "outputs": [],
   "source": [
    "test = {}\n",
    "test[(0,1)] = 1"
   ]
  },
  {
   "cell_type": "code",
   "execution_count": 41,
   "metadata": {},
   "outputs": [
    {
     "data": {
      "text/plain": [
       "{(0, 1): 1}"
      ]
     },
     "execution_count": 41,
     "metadata": {},
     "output_type": "execute_result"
    }
   ],
   "source": [
    "test"
   ]
  },
  {
   "cell_type": "code",
   "execution_count": 42,
   "metadata": {},
   "outputs": [
    {
     "data": {
      "text/plain": [
       "True"
      ]
     },
     "execution_count": 42,
     "metadata": {},
     "output_type": "execute_result"
    }
   ],
   "source": [
    "(0, 1) in test"
   ]
  },
  {
   "cell_type": "code",
   "execution_count": 43,
   "metadata": {},
   "outputs": [],
   "source": [
    "import functools"
   ]
  },
  {
   "cell_type": "code",
   "execution_count": 50,
   "metadata": {},
   "outputs": [
    {
     "name": "stdout",
     "output_type": "stream",
     "text": [
      "The sum of the list elements is : 8\n"
     ]
    }
   ],
   "source": [
    "lis = [1, 2,3,3   ] \n",
    "  \n",
    "print(\"The sum of the list elements is : \", end=\"\") \n",
    "print(functools.reduce(lambda a, b: a*2, lis)) "
   ]
  },
  {
   "cell_type": "code",
   "execution_count": null,
   "metadata": {},
   "outputs": [],
   "source": []
  }
 ],
 "metadata": {
  "kernelspec": {
   "display_name": "Python 3",
   "language": "python",
   "name": "python3"
  },
  "language_info": {
   "codemirror_mode": {
    "name": "ipython",
    "version": 3
   },
   "file_extension": ".py",
   "mimetype": "text/x-python",
   "name": "python",
   "nbconvert_exporter": "python",
   "pygments_lexer": "ipython3",
   "version": "3.8.3"
  }
 },
 "nbformat": 4,
 "nbformat_minor": 4
}
