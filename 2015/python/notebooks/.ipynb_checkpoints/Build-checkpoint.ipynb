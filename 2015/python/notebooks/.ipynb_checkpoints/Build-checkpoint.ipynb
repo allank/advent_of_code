{
 "cells": [
  {
   "cell_type": "code",
   "execution_count": null,
   "metadata": {},
   "outputs": [],
   "source": [
    "day = \"04\""
   ]
  },
  {
   "cell_type": "code",
   "execution_count": null,
   "metadata": {},
   "outputs": [],
   "source": [
    "secret_key = \"abcdef\"\n",
    "# 609043"
   ]
  },
  {
   "cell_type": "code",
   "execution_count": null,
   "metadata": {},
   "outputs": [],
   "source": [
    "def input():\n",
    "    with open(\"../data/input_{}.txt\".format(day), \"r\") as f:\n",
    "        return f.read()"
   ]
  },
  {
   "cell_type": "code",
   "execution_count": null,
   "metadata": {},
   "outputs": [],
   "source": [
    "secret_key = input()"
   ]
  },
  {
   "cell_type": "code",
   "execution_count": 67,
   "metadata": {},
   "outputs": [],
   "source": [
    "def process_moves(current_house, moves):\n",
    "    houses = [\n",
    "        current_house\n",
    "    ]\n",
    "    for move in moves:\n",
    "        if move == '<':\n",
    "            # decrement col\n",
    "            current_house = [current_house[0] + 1, current_house[1]]\n",
    "        elif move == '>':\n",
    "            # increment col\n",
    "            current_house = [current_house[0] - 1, current_house[1]]\n",
    "        elif move == '^':\n",
    "            # decrement row\n",
    "            current_house = [current_house[0], current_house[1] - 1]\n",
    "        elif move == 'v': # move == 'v'\n",
    "            # increment row\n",
    "            current_house = [current_house[0], current_house[1] + 1]\n",
    "        else:\n",
    "            pass\n",
    "        houses.append(current_house)\n",
    "    return houses"
   ]
  },
  {
   "cell_type": "code",
   "execution_count": 74,
   "metadata": {},
   "outputs": [
    {
     "name": "stdout",
     "output_type": "stream",
     "text": [
      "2592\n"
     ]
    }
   ],
   "source": [
    "moves = [m for m in deliveries]\n",
    "print(len(set(map(tuple, process_moves([0,0], moves)))))"
   ]
  },
  {
   "cell_type": "code",
   "execution_count": 75,
   "metadata": {},
   "outputs": [
    {
     "name": "stdout",
     "output_type": "stream",
     "text": [
      "2360\n"
     ]
    }
   ],
   "source": [
    "moves = [m for m in deliveries]\n",
    "santa = moves[::2]\n",
    "robo = moves[1::2]\n",
    "all_houses = process_moves([0,0], santa)\n",
    "all_houses.extend(process_moves([0,0], robo))\n",
    "print(len(set(map(tuple,all_houses))))"
   ]
  }
 ],
 "metadata": {
  "kernelspec": {
   "display_name": "Python 3",
   "language": "python",
   "name": "python3"
  },
  "language_info": {
   "codemirror_mode": {
    "name": "ipython",
    "version": 3
   },
   "file_extension": ".py",
   "mimetype": "text/x-python",
   "name": "python",
   "nbconvert_exporter": "python",
   "pygments_lexer": "ipython3",
   "version": "3.8.3"
  }
 },
 "nbformat": 4,
 "nbformat_minor": 4
}
